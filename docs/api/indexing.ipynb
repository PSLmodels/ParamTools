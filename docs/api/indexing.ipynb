{
 "cells": [
  {
   "cell_type": "markdown",
   "metadata": {},
   "source": [
    "# Extend with Indexing\n",
    "\n",
    "ParamTools provides out-of-the-box parameter indexing. This is helpful for projects that have parameters that change at some rate over time. For example, tax parameters like the standard deduction are often indexed to price inflation. So, the value of the standard deduction actually increases every year by 1 or 2% depending on that year's inflation rate.\n",
    "\n",
    "The [extend documentation](/api/extend/) may be useful for gaining a better understanding of how ParamTools extends parameter values along `label_to_extend`.\n",
    "\n",
    "To use the indexing feature:\n",
    "\n",
    "- Set the `label_to_extend` class attribute to the label that should be extended\n",
    "- Set the `indexing_rates` class attribute to a dictionary of inflation rates where the keys correspond to the value of `label_to_extend` and the values are the indexing rates.\n",
    "- Set the `uses_extend_func` class attribute to `True`.\n",
    "- In `defaults` or `defaults.json`, set `indexed` to `True` for each parameter that needs to be indexed.\n",
    "\n",
    "## Example\n",
    "\n",
    "This is a continuation of the tax parameters example from the [extend documentation](/api/extend/). The differences are `indexed` is set to `True` for the `standard_deducation` parameter, `uses_extend_func` is set to `True`, and `index_rates` is specified with inflation rates obtained from the open-source tax modeling package, [Tax-Calculator](https://github.com/PSLmodels/Tax-Calculator/), using version 2.5.0.\n"
   ]
  },
  {
   "cell_type": "code",
   "execution_count": 1,
   "metadata": {},
   "outputs": [
    {
     "data": {
      "text/plain": [
       "array([[ 6074.92, 12149.84],\n",
       "       [ 6164.83, 12329.66],\n",
       "       [ 6262.85, 12525.7 ],\n",
       "       [ 6270.37, 12540.73],\n",
       "       [ 6350.  , 12700.  ],\n",
       "       [12000.  , 24000.  ],\n",
       "       [12268.8 , 24537.6 ],\n",
       "       [12497.  , 24994.  ],\n",
       "       [12788.18, 25576.36],\n",
       "       [13081.03, 26162.06],\n",
       "       [13379.28, 26758.55],\n",
       "       [13674.96, 27349.91],\n",
       "       [13963.5 , 27926.99],\n",
       "       [ 7685.  , 15369.  ],\n",
       "       [ 7847.15, 15693.29]])"
      ]
     },
     "execution_count": 1,
     "metadata": {},
     "output_type": "execute_result"
    }
   ],
   "source": [
    "import paramtools\n",
    "\n",
    "\n",
    "class TaxParams(paramtools.Parameters):\n",
    "    defaults = {\n",
    "        \"schema\": {\n",
    "            \"labels\": {\n",
    "                \"year\": {\n",
    "                    \"type\": \"int\",\n",
    "                    \"validators\": {\"range\": {\"min\": 2013, \"max\": 2027}}\n",
    "                },\n",
    "                \"marital_status\": {\n",
    "                    \"type\": \"str\",\n",
    "                    \"validators\": {\"choice\": {\"choices\": [\"single\", \"joint\"]}}\n",
    "                },\n",
    "            }\n",
    "        },\n",
    "        \"standard_deduction\": {\n",
    "            \"title\": \"Standard deduction amount\",\n",
    "            \"description\": \"Amount filing unit can use as a standard deduction.\",\n",
    "            \"type\": \"float\",\n",
    "\n",
    "            # Set indexed to True to extend standard_deduction with the built-in\n",
    "            # extension logic.\n",
    "            \"indexed\": True,\n",
    "\n",
    "            \"value\": [\n",
    "                {\"year\": 2017, \"marital_status\": \"single\", \"value\": 6350},\n",
    "                {\"year\": 2017, \"marital_status\": \"joint\", \"value\": 12700},\n",
    "                {\"year\": 2018, \"marital_status\": \"single\", \"value\": 12000},\n",
    "                {\"year\": 2018, \"marital_status\": \"joint\", \"value\": 24000},\n",
    "                {\"year\": 2026, \"marital_status\": \"single\", \"value\": 7685},\n",
    "                {\"year\": 2026, \"marital_status\": \"joint\", \"value\": 15369}],\n",
    "            \"validators\": {\n",
    "                \"range\": {\n",
    "                    \"min\": 0,\n",
    "                    \"max\": 9e+99\n",
    "                }\n",
    "            }\n",
    "        },\n",
    "    }\n",
    "    array_first = True\n",
    "    label_to_extend = \"year\"\n",
    "    # Activate use of extend_func method.\n",
    "    uses_extend_func = True\n",
    "    # inflation rates from Tax-Calculator v2.5.0\n",
    "    index_rates = {\n",
    "        2013: 0.0148,\n",
    "        2014: 0.0159,\n",
    "        2015: 0.0012,\n",
    "        2016: 0.0127,\n",
    "        2017: 0.0187,\n",
    "        2018: 0.0224,\n",
    "        2019: 0.0186,\n",
    "        2020: 0.0233,\n",
    "        2021: 0.0229,\n",
    "        2022: 0.0228,\n",
    "        2023: 0.0221,\n",
    "        2024: 0.0211,\n",
    "        2025: 0.0209,\n",
    "        2026: 0.0211,\n",
    "        2027: 0.0208,\n",
    "        2028: 0.021,\n",
    "        2029: 0.021\n",
    "    }\n",
    "\n",
    "\n",
    "params = TaxParams()\n",
    "params.standard_deduction\n"
   ]
  },
  {
   "cell_type": "markdown",
   "metadata": {},
   "source": [
    "Adjustments are also indexed. In the example below, `standard_deduction` is set to 10,000 in 2017, increased to 15,000 for single tax units in 2020, and increased to 20,000 for joint tax units in 2021:\n"
   ]
  },
  {
   "cell_type": "code",
   "execution_count": 2,
   "metadata": {},
   "outputs": [
    {
     "data": {
      "text/plain": [
       "array([[ 6074.92, 12149.84],\n",
       "       [ 6164.83, 12329.66],\n",
       "       [ 6262.85, 12525.7 ],\n",
       "       [ 6270.37, 12540.73],\n",
       "       [10000.  , 10000.  ],\n",
       "       [10187.  , 10187.  ],\n",
       "       [10415.19, 10415.19],\n",
       "       [15000.  , 10608.91],\n",
       "       [15349.5 , 20000.  ],\n",
       "       [15701.  , 20458.  ],\n",
       "       [16058.98, 20924.44],\n",
       "       [16413.88, 21386.87],\n",
       "       [16760.21, 21838.13],\n",
       "       [17110.5 , 22294.55],\n",
       "       [17471.53, 22764.97]])"
      ]
     },
     "execution_count": 2,
     "metadata": {},
     "output_type": "execute_result"
    }
   ],
   "source": [
    "params.adjust(\n",
    "    {\n",
    "        \"standard_deduction\": [\n",
    "            {\"year\": 2017, \"value\": 10000},\n",
    "            {\"year\": 2020, \"marital_status\": \"single\", \"value\": 15000},\n",
    "            {\"year\": 2021, \"marital_status\": \"joint\", \"value\": 20000}\n",
    "        ]\n",
    "    }\n",
    ")\n",
    "\n",
    "params.standard_deduction\n"
   ]
  },
  {
   "cell_type": "markdown",
   "metadata": {},
   "source": [
    "All values that are added automatically via the `extend` method are given an `_auto` attribute. You can select them like this:\n"
   ]
  },
  {
   "cell_type": "code",
   "execution_count": 3,
   "metadata": {},
   "outputs": [
    {
     "data": {
      "text/plain": [
       "[{'year': 2013, 'marital_status': 'single', 'value': 6074.92, '_auto': True},\n",
       " {'year': 2014, 'marital_status': 'single', 'value': 6164.83, '_auto': True},\n",
       " {'year': 2015, 'marital_status': 'single', 'value': 6262.85, '_auto': True},\n",
       " {'year': 2016, 'marital_status': 'single', 'value': 6270.37, '_auto': True},\n",
       " {'year': 2019, 'marital_status': 'single', 'value': 12268.8, '_auto': True},\n",
       " {'year': 2020, 'marital_status': 'single', 'value': 12497.0, '_auto': True},\n",
       " {'year': 2021, 'marital_status': 'single', 'value': 12788.18, '_auto': True},\n",
       " {'year': 2022, 'marital_status': 'single', 'value': 13081.03, '_auto': True},\n",
       " {'year': 2023, 'marital_status': 'single', 'value': 13379.28, '_auto': True},\n",
       " {'year': 2024, 'marital_status': 'single', 'value': 13674.96, '_auto': True},\n",
       " {'year': 2025, 'marital_status': 'single', 'value': 13963.5, '_auto': True},\n",
       " {'year': 2027, 'marital_status': 'single', 'value': 7847.15, '_auto': True},\n",
       " {'year': 2013, 'marital_status': 'joint', 'value': 12149.84, '_auto': True},\n",
       " {'year': 2014, 'marital_status': 'joint', 'value': 12329.66, '_auto': True},\n",
       " {'year': 2015, 'marital_status': 'joint', 'value': 12525.7, '_auto': True},\n",
       " {'year': 2016, 'marital_status': 'joint', 'value': 12540.73, '_auto': True},\n",
       " {'year': 2019, 'marital_status': 'joint', 'value': 24537.6, '_auto': True},\n",
       " {'year': 2020, 'marital_status': 'joint', 'value': 24994.0, '_auto': True},\n",
       " {'year': 2021, 'marital_status': 'joint', 'value': 25576.36, '_auto': True},\n",
       " {'year': 2022, 'marital_status': 'joint', 'value': 26162.06, '_auto': True},\n",
       " {'year': 2023, 'marital_status': 'joint', 'value': 26758.55, '_auto': True},\n",
       " {'year': 2024, 'marital_status': 'joint', 'value': 27349.91, '_auto': True},\n",
       " {'year': 2025, 'marital_status': 'joint', 'value': 27926.99, '_auto': True},\n",
       " {'year': 2027, 'marital_status': 'joint', 'value': 15693.29, '_auto': True}]"
      ]
     },
     "execution_count": 3,
     "metadata": {},
     "output_type": "execute_result"
    }
   ],
   "source": [
    "params = TaxParams()\n",
    "\n",
    "params.select_eq(\n",
    "    \"standard_deduction\", strict=True, _auto=True\n",
    ")\n"
   ]
  },
  {
   "cell_type": "markdown",
   "metadata": {},
   "source": [
    "If you want to update the index rates and apply them to your existing values, then all you need to do is remove the values that were added automatically. ParamTools will fill in the missing values using the updated index rates:\n"
   ]
  },
  {
   "cell_type": "code",
   "execution_count": 4,
   "metadata": {
    "scrolled": false
   },
   "outputs": [
    {
     "data": {
      "text/plain": [
       "array([[ 6015.22, 12030.41],\n",
       "       [ 6119.28, 12238.54],\n",
       "       [ 6231.87, 12463.73],\n",
       "       [ 6254.93, 12509.85],\n",
       "       [ 6350.  , 12700.  ],\n",
       "       [12000.  , 24000.  ],\n",
       "       [12298.8 , 24597.6 ],\n",
       "       [12558.3 , 25116.61],\n",
       "       [12882.3 , 25764.62],\n",
       "       [13209.51, 26419.04],\n",
       "       [13543.71, 27087.44],\n",
       "       [13876.89, 27753.79],\n",
       "       [14204.38, 28408.78],\n",
       "       [ 7685.  , 15369.  ],\n",
       "       [ 7866.37, 15731.71]])"
      ]
     },
     "execution_count": 4,
     "metadata": {},
     "output_type": "execute_result"
    }
   ],
   "source": [
    "params = TaxParams()\n",
    "\n",
    "offset = 0.0025\n",
    "for year, rate in params.index_rates.items():\n",
    "    params.index_rates[year] = rate + offset\n",
    "\n",
    "automatically_added = params.select_eq(\n",
    "    \"standard_deduction\", strict=True, _auto=True\n",
    ")\n",
    "\n",
    "params.delete(\n",
    "    {\n",
    "        \"standard_deduction\": automatically_added\n",
    "    }\n",
    ")\n",
    "\n",
    "params.standard_deduction\n"
   ]
  },
  {
   "cell_type": "markdown",
   "metadata": {},
   "source": [
    "### Code for getting Tax-Calculator index rates\n",
    "\n",
    "```python\n",
    "import taxcalc\n",
    "pol = taxcalc.Policy()\n",
    "index_rates = {\n",
    "    year: value\n",
    "    for year, value in zip(list(range(2013, 2029 + 1)), pol.inflation_rates())\n",
    "}\n",
    "```\n",
    "\n",
    "Note that there are some subtle details that are implemented in Tax-Calculator's indexing logic that are not implemented in this example. Tax-Calculator has a parameter called `CPI_offset` that adjusts inflation rates up or down by a fixed amount. The `indexed` property can also be turned on and off for each parameter. Implementing these nuanced features is left as the proverbial \"trivial exercise to the reader.\"\n"
   ]
  },
  {
   "cell_type": "code",
   "execution_count": null,
   "metadata": {},
   "outputs": [],
   "source": []
  }
 ],
 "metadata": {
  "kernelspec": {
   "display_name": "Python 3",
   "language": "python",
   "name": "python3"
  },
  "language_info": {
   "codemirror_mode": {
    "name": "ipython",
    "version": 3
   },
   "file_extension": ".py",
   "mimetype": "text/x-python",
   "name": "python",
   "nbconvert_exporter": "python",
   "pygments_lexer": "ipython3",
   "version": "3.8.5"
  }
 },
 "nbformat": 4,
 "nbformat_minor": 4
}
